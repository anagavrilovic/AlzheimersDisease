{
 "cells": [
  {
   "cell_type": "markdown",
   "id": "afa9cfcd",
   "metadata": {},
   "source": [
    "<h1 style=\"color: #5ca3d6; text-align: center;\">Classifying Severity of Alzheimer's Disease - CNN</h1>\n",
    "<h3 style=\"color: #4c90c2; text-align: center; font-weight: normal;\">Fine Tuning - Vgg19</h3>"
   ]
  },
  {
   "cell_type": "markdown",
   "id": "18e81967",
   "metadata": {},
   "source": [
    " "
   ]
  },
  {
   "cell_type": "code",
   "execution_count": 1,
   "id": "8d546b65",
   "metadata": {},
   "outputs": [],
   "source": [
    "import numpy as np\n",
    "import cv2\n",
    "import os\n",
    "\n",
    "import tensorflow_hub as hub\n",
    "\n",
    "from imblearn.over_sampling import SMOTE\n",
    "\n",
    "from tensorflow.keras.models import Sequential\n",
    "from tensorflow.keras.layers import Dense\n",
    "from tensorflow.keras.layers import Dropout\n",
    "from tensorflow.keras.layers import Conv2D\n",
    "from tensorflow.keras.layers import MaxPool2D\n",
    "from tensorflow.keras.layers import Flatten\n",
    "from tensorflow.keras.applications import VGG19\n",
    "from tensorflow.keras.models import load_model\n",
    "from tensorflow import keras\n",
    "\n",
    "from sklearn.model_selection import train_test_split\n",
    "from sklearn.metrics import confusion_matrix, ConfusionMatrixDisplay, accuracy_score, classification_report\n",
    "from sklearn.utils import shuffle\n",
    "import matplotlib.pyplot as plt"
   ]
  },
  {
   "cell_type": "markdown",
   "id": "6b43a443",
   "metadata": {},
   "source": [
    "<h3 style=\"font-weight: normal;\">Constants</h3>"
   ]
  },
  {
   "cell_type": "code",
   "execution_count": 2,
   "id": "c1eea041",
   "metadata": {},
   "outputs": [],
   "source": [
    "DATASET_PATH = '..' + os.path.sep + 'dataset'\n",
    "IMAGE_SIZE = (128, 128)"
   ]
  },
  {
   "cell_type": "markdown",
   "id": "9057456c",
   "metadata": {},
   "source": [
    "<h3 style=\"font-weight: normal;\">Reading image paths and labels and writing to dictionary</h3>"
   ]
  },
  {
   "cell_type": "markdown",
   "id": "879a2fd0",
   "metadata": {},
   "source": [
    "Iterrating through dataset's directories and files and creating dictionary with <span style=\"font-style: italic;\">\"path/to/file\" : \"label\"</span> pairs. <br/>\n",
    "Also, creating classes list, which is a list with names of all classes. Possible Alzheimer stages (classes) are: non demented, mild demented, very mild demented and moderate demented."
   ]
  },
  {
   "cell_type": "code",
   "execution_count": 3,
   "id": "39643978",
   "metadata": {},
   "outputs": [
    {
     "data": {
      "text/plain": [
       "['MildDemented', 'ModerateDemented', 'NonDemented', 'VeryMildDemented']"
      ]
     },
     "execution_count": 3,
     "metadata": {},
     "output_type": "execute_result"
    }
   ],
   "source": [
    "images_dict = dict()\n",
    "classes = []\n",
    "\n",
    "for root, dirs, files in os.walk(DATASET_PATH):\n",
    "    path = root.split(os.sep)\n",
    "    for directory in dirs:\n",
    "        classes.append(directory)\n",
    "\n",
    "    for file in files:\n",
    "        if len(path) == 3:\n",
    "            if path[2] == 'MildDemented':\n",
    "                images_dict[os.path.join(DATASET_PATH, path[2], file)] = 0\n",
    "            elif path[2] == 'ModerateDemented':\n",
    "                images_dict[os.path.join(DATASET_PATH, path[2], file)] = 1\n",
    "            elif path[2] == 'NonDemented':\n",
    "                images_dict[os.path.join(DATASET_PATH, path[2], file)] = 2\n",
    "            elif path[2] == 'VeryMildDemented':\n",
    "                images_dict[os.path.join(DATASET_PATH, path[2], file)] = 3\n",
    "\n",
    "class_number = len(classes)\n",
    "classes"
   ]
  },
  {
   "cell_type": "markdown",
   "id": "c3a2d0fe",
   "metadata": {},
   "source": [
    "<h3 style=\"font-weight: normal;\">Loading images</h3>"
   ]
  },
  {
   "cell_type": "markdown",
   "id": "74d533c9",
   "metadata": {},
   "source": [
    "Creating two lists: <span style=\"font-style: italic;\">train_images</span>, which is a list of loaded images, and <span style=\"font-style: italic;\">train_image_labels</span>, which is a list of labels for each image."
   ]
  },
  {
   "cell_type": "code",
   "execution_count": 4,
   "id": "74c729da",
   "metadata": {},
   "outputs": [],
   "source": [
    "train_images = []\n",
    "train_image_labels = []\n",
    "\n",
    "for image_path, image_label in images_dict.items():\n",
    "    img = cv2.cvtColor(cv2.imread(image_path), cv2.COLOR_BGR2RGB)\n",
    "    img = cv2.resize(img, IMAGE_SIZE)\n",
    "    train_images.append(img)\n",
    "    train_image_labels.append(image_label)\n",
    "    # print(image_path)\n",
    "\n",
    "train_images = np.array(train_images, dtype=float)\n",
    "train_image_labels = np.array(train_image_labels, dtype=float)"
   ]
  },
  {
   "cell_type": "markdown",
   "id": "4020ec1b",
   "metadata": {},
   "source": [
    "<h3 style=\"font-weight: normal;\">Split to train and test</h3>"
   ]
  },
  {
   "cell_type": "code",
   "execution_count": 5,
   "id": "468c2fd5",
   "metadata": {},
   "outputs": [],
   "source": [
    "train_images, test_images, train_image_labels, test_image_labels = train_test_split(\n",
    "    train_images,\n",
    "    train_image_labels,\n",
    "    test_size=0.2,\n",
    "    random_state=15,\n",
    "    stratify=train_image_labels)\n",
    "\n",
    "train_images = train_images / 255\n",
    "test_images = test_images / 255"
   ]
  },
  {
   "cell_type": "markdown",
   "id": "8b765858",
   "metadata": {},
   "source": [
    "<h3 style=\"font-weight: normal;\">Oversampling</h3>"
   ]
  },
  {
   "cell_type": "code",
   "execution_count": null,
   "id": "f49baf24",
   "metadata": {},
   "outputs": [],
   "source": [
    "sm = SMOTE(random_state=42)\n",
    "train_images, train_image_labels = sm.fit_resample(train_images.reshape(-1, IMAGE_SIZE[0] * IMAGE_SIZE[1] * 3), \n",
    "                                                   train_image_labels)\n",
    "train_images = train_images.reshape(-1, IMAGE_SIZE[0], IMAGE_SIZE[1], 3)\n",
    "\n",
    "\n",
    "test_images, test_image_labels = sm.fit_resample(test_images.reshape(-1, IMAGE_SIZE[0] * IMAGE_SIZE[1] * 3), \n",
    "                                                 test_image_labels)\n",
    "test_images = test_images.reshape(-1, IMAGE_SIZE[0], IMAGE_SIZE[1], 3)"
   ]
  },
  {
   "cell_type": "markdown",
   "id": "b41529e7",
   "metadata": {},
   "source": [
    "<h3 style=\"font-weight: normal;\">Shuffling data</h3>"
   ]
  },
  {
   "cell_type": "code",
   "execution_count": null,
   "id": "b5a776f9",
   "metadata": {},
   "outputs": [],
   "source": [
    "train_images, train_image_labels = shuffle(train_images, train_image_labels)"
   ]
  },
  {
   "cell_type": "markdown",
   "id": "b20e115a",
   "metadata": {},
   "source": [
    "<h3 style=\"font-weight: normal;\">Creating and training model</h3>"
   ]
  },
  {
   "cell_type": "code",
   "execution_count": null,
   "id": "b4119a25",
   "metadata": {},
   "outputs": [],
   "source": [
    "try:\n",
    "    model = load_model('models-vgg19/cnn.h5')\n",
    "except:\n",
    "    vgg19 = VGG19(\n",
    "        include_top=False,\n",
    "        weights='imagenet',\n",
    "        input_tensor=None,\n",
    "        input_shape=IMAGE_SIZE+(3,),\n",
    "        pooling=None,\n",
    "        classes=1000\n",
    "    )\n",
    "    vgg19.trainable = False\n",
    "\n",
    "    model = Sequential()\n",
    "    model.add(vgg19)\n",
    "    \n",
    "    model.add(Conv2D(filters=64, kernel_size=(3, 3), activation='relu', padding=\"same\"))\n",
    "    model.add(MaxPool2D(pool_size=(2, 2)))\n",
    "    \n",
    "    model.add(Conv2D(filters=128, kernel_size=(3, 3), activation='relu', padding=\"same\"))\n",
    "    model.add(MaxPool2D(pool_size=(2, 2)))\n",
    "    \n",
    "    model.add(Flatten())\n",
    "    model.add(Dense(units=128, activation='relu'))\n",
    "    model.add(Dropout(0.5))\n",
    "    model.add(Dense(units=class_number, activation='softmax'))\n",
    "    \n",
    "    model.summary()\n",
    "\n",
    "    model.compile(optimizer=\"adam\", loss='sparse_categorical_crossentropy', metrics=['accuracy'])\n",
    "\n",
    "    history = model.fit(train_images, train_image_labels, epochs=15, verbose=1)\n",
    "    model.save('models-vgg19/cnn.h5')\n",
    "\n",
    "    # Plotting accuracy and loss during training\n",
    "    # accuracy\n",
    "    plt.plot(history.history['accuracy'])\n",
    "    plt.title('model accuracy')\n",
    "    plt.ylabel('accuracy')\n",
    "    plt.xlabel('epoch')\n",
    "    plt.legend(['train', 'test'], loc='upper left')\n",
    "    plt.show()\n",
    "    \n",
    "    # loss\n",
    "    plt.plot(history.history['loss'])\n",
    "    plt.title('model loss')\n",
    "    plt.ylabel('loss')\n",
    "    plt.xlabel('epoch')\n",
    "    plt.legend(['train', 'test'], loc='upper left')\n",
    "    plt.show()"
   ]
  },
  {
   "cell_type": "code",
   "execution_count": null,
   "id": "61845439",
   "metadata": {},
   "outputs": [],
   "source": [
    "keras.utils.plot_model(model, to_file=\"models-vgg19/model_plot.png\", show_shapes=True, show_layer_names=True)"
   ]
  },
  {
   "cell_type": "markdown",
   "id": "866ce8c8",
   "metadata": {},
   "source": [
    "<h3 style=\"font-weight: normal;\">Evaluating and predicting</h3>"
   ]
  },
  {
   "cell_type": "code",
   "execution_count": null,
   "id": "6437c2af",
   "metadata": {},
   "outputs": [],
   "source": [
    "# Evaluating\n",
    "results = model.evaluate(test_images, test_image_labels)\n",
    "print(\"test loss, test acc:\", results)\n",
    "\n",
    "# Predicting\n",
    "predictions = model.predict(test_images)\n",
    "print(predictions)\n",
    "\n",
    "predicted_labels = []\n",
    "for prediction in predictions:\n",
    "    predicted_value = max(prediction)\n",
    "    index = np.where(prediction == predicted_value)[0][0]\n",
    "    predicted_labels.append(index)"
   ]
  },
  {
   "cell_type": "markdown",
   "id": "9f18060d",
   "metadata": {},
   "source": [
    "<h2 style=\"font-weight: normal;\">Statistics</h2>"
   ]
  },
  {
   "cell_type": "code",
   "execution_count": null,
   "id": "6a546877",
   "metadata": {},
   "outputs": [],
   "source": [
    "test_image_labels_str = []\n",
    "for label in test_image_labels:\n",
    "    test_image_labels_str.append(classes[int(label)])\n",
    "predicted_labels_str = []\n",
    "for label in predicted_labels:\n",
    "    predicted_labels_str.append(classes[label])"
   ]
  },
  {
   "cell_type": "markdown",
   "id": "ff48b6d5",
   "metadata": {},
   "source": [
    "<h4 style=\"font-weight: normal;\">Confusion matrix</h4>"
   ]
  },
  {
   "cell_type": "code",
   "execution_count": null,
   "id": "cc1c3022",
   "metadata": {},
   "outputs": [],
   "source": [
    "conf_mat = confusion_matrix(test_image_labels_str, predicted_labels_str, labels=classes)\n",
    "print(conf_mat)\n",
    "disp = ConfusionMatrixDisplay(confusion_matrix=conf_mat, display_labels=classes)\n",
    "disp.plot(cmap=\"Blues\", values_format='', xticks_rotation=90)\n",
    "plt.title('Alzheimer\\'s Disease Diagnosis')\n",
    "plt.xlabel('Prediction')\n",
    "plt.ylabel('Truth')\n",
    "plt.show()"
   ]
  },
  {
   "cell_type": "markdown",
   "id": "7bae63dd",
   "metadata": {},
   "source": [
    "<h4 style=\"font-weight: normal;\">Accuracy</h4>"
   ]
  },
  {
   "cell_type": "code",
   "execution_count": null,
   "id": "bd038e8a",
   "metadata": {},
   "outputs": [],
   "source": [
    "percentage = accuracy_score(test_image_labels_str, predicted_labels_str)*100\n",
    "print('Accuracy:', percentage, '%')"
   ]
  },
  {
   "cell_type": "markdown",
   "id": "14325690",
   "metadata": {},
   "source": [
    "<h4 style=\"font-weight: normal;\">Classification report</h4>"
   ]
  },
  {
   "cell_type": "code",
   "execution_count": null,
   "id": "7d35cac8",
   "metadata": {},
   "outputs": [],
   "source": [
    "print(classification_report(y_true=list(map(str, test_image_labels_str)),\n",
    "                            y_pred=list(map(str, predicted_labels_str)),\n",
    "                            target_names=list(map(str, classes))))"
   ]
  }
 ],
 "metadata": {
  "kernelspec": {
   "display_name": "Python 3 (ipykernel)",
   "language": "python",
   "name": "python3"
  },
  "language_info": {
   "codemirror_mode": {
    "name": "ipython",
    "version": 3
   },
   "file_extension": ".py",
   "mimetype": "text/x-python",
   "name": "python",
   "nbconvert_exporter": "python",
   "pygments_lexer": "ipython3",
   "version": "3.8.13"
  }
 },
 "nbformat": 4,
 "nbformat_minor": 5
}
