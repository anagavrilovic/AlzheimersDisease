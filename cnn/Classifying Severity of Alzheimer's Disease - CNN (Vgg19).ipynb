{
 "cells": [
  {
   "cell_type": "markdown",
   "id": "afa9cfcd",
   "metadata": {},
   "source": [
    "<h1 style=\"color: #5ca3d6; text-align: center;\">Classifying Severity of Alzheimer's Disease - CNN</h1>\n",
    "<h3 style=\"color: #4c90c2; text-align: center; font-weight: normal;\">Fine Tuning - Vgg19</h3>"
   ]
  },
  {
   "cell_type": "markdown",
   "id": "18e81967",
   "metadata": {},
   "source": [
    " "
   ]
  },
  {
   "cell_type": "code",
   "execution_count": 1,
   "id": "8d546b65",
   "metadata": {},
   "outputs": [],
   "source": [
    "import numpy as np\n",
    "import cv2\n",
    "import os\n",
    "\n",
    "import tensorflow_hub as hub\n",
    "\n",
    "from imblearn.over_sampling import SMOTE\n",
    "\n",
    "from tensorflow.keras.models import Sequential\n",
    "from tensorflow.keras.layers import Dense\n",
    "from tensorflow.keras.layers import Dropout\n",
    "from tensorflow.keras.layers import Conv2D\n",
    "from tensorflow.keras.layers import MaxPool2D\n",
    "from tensorflow.keras.layers import Flatten\n",
    "from tensorflow.keras.applications import VGG19\n",
    "from tensorflow.keras.models import load_model\n",
    "\n",
    "from sklearn.model_selection import train_test_split\n",
    "from sklearn.metrics import confusion_matrix, ConfusionMatrixDisplay, accuracy_score, classification_report\n",
    "from sklearn.utils import shuffle\n",
    "import matplotlib.pyplot as plt"
   ]
  },
  {
   "cell_type": "markdown",
   "id": "6b43a443",
   "metadata": {},
   "source": [
    "<h3 style=\"font-weight: normal;\">Constants</h3>"
   ]
  },
  {
   "cell_type": "code",
   "execution_count": 2,
   "id": "c1eea041",
   "metadata": {},
   "outputs": [],
   "source": [
    "DATASET_PATH = '..' + os.path.sep + 'dataset'\n",
    "IMAGE_SIZE = (128, 128)"
   ]
  },
  {
   "cell_type": "markdown",
   "id": "9057456c",
   "metadata": {},
   "source": [
    "<h3 style=\"font-weight: normal;\">Reading image paths and labels and writing to dictionary</h3>"
   ]
  },
  {
   "cell_type": "markdown",
   "id": "879a2fd0",
   "metadata": {},
   "source": [
    "Iterrating through dataset's directories and files and creating dictionary with <span style=\"font-style: italic;\">\"path/to/file\" : \"label\"</span> pairs. <br/>\n",
    "Also, creating classes list, which is a list with names of all classes. Possible Alzheimer stages (classes) are: non demented, mild demented, very mild demented and moderate demented."
   ]
  },
  {
   "cell_type": "code",
   "execution_count": 3,
   "id": "39643978",
   "metadata": {},
   "outputs": [
    {
     "data": {
      "text/plain": [
       "['MildDemented', 'ModerateDemented', 'NonDemented', 'VeryMildDemented']"
      ]
     },
     "execution_count": 3,
     "metadata": {},
     "output_type": "execute_result"
    }
   ],
   "source": [
    "images_dict = dict()\n",
    "classes = []\n",
    "\n",
    "for root, dirs, files in os.walk(DATASET_PATH):\n",
    "    path = root.split(os.sep)\n",
    "    for directory in dirs:\n",
    "        classes.append(directory)\n",
    "\n",
    "    for file in files:\n",
    "        if len(path) == 3:\n",
    "            if path[2] == 'MildDemented':\n",
    "                images_dict[os.path.join(DATASET_PATH, path[2], file)] = 0\n",
    "            elif path[2] == 'ModerateDemented':\n",
    "                images_dict[os.path.join(DATASET_PATH, path[2], file)] = 1\n",
    "            elif path[2] == 'NonDemented':\n",
    "                images_dict[os.path.join(DATASET_PATH, path[2], file)] = 2\n",
    "            elif path[2] == 'VeryMildDemented':\n",
    "                images_dict[os.path.join(DATASET_PATH, path[2], file)] = 3\n",
    "\n",
    "class_number = len(classes)\n",
    "classes"
   ]
  },
  {
   "cell_type": "markdown",
   "id": "c3a2d0fe",
   "metadata": {},
   "source": [
    "<h3 style=\"font-weight: normal;\">Loading images</h3>"
   ]
  },
  {
   "cell_type": "markdown",
   "id": "74d533c9",
   "metadata": {},
   "source": [
    "Creating two lists: <span style=\"font-style: italic;\">train_images</span>, which is a list of loaded images, and <span style=\"font-style: italic;\">train_image_labels</span>, which is a list of labels for each image."
   ]
  },
  {
   "cell_type": "code",
   "execution_count": 4,
   "id": "74c729da",
   "metadata": {},
   "outputs": [],
   "source": [
    "train_images = []\n",
    "train_image_labels = []\n",
    "\n",
    "for image_path, image_label in images_dict.items():\n",
    "    img = cv2.cvtColor(cv2.imread(image_path), cv2.COLOR_BGR2RGB)\n",
    "    img = cv2.resize(img, IMAGE_SIZE)\n",
    "    train_images.append(img)\n",
    "    train_image_labels.append(image_label)\n",
    "    # print(image_path)\n",
    "\n",
    "train_images = np.array(train_images, dtype=float)\n",
    "train_image_labels = np.array(train_image_labels, dtype=float)"
   ]
  },
  {
   "cell_type": "markdown",
   "id": "4020ec1b",
   "metadata": {},
   "source": [
    "<h3 style=\"font-weight: normal;\">Split to train and test</h3>"
   ]
  },
  {
   "cell_type": "code",
   "execution_count": 5,
   "id": "468c2fd5",
   "metadata": {},
   "outputs": [],
   "source": [
    "train_images, test_images, train_image_labels, test_image_labels = train_test_split(\n",
    "    train_images,\n",
    "    train_image_labels,\n",
    "    test_size=0.2,\n",
    "    random_state=15,\n",
    "    stratify=train_image_labels)\n",
    "\n",
    "train_images = train_images / 255\n",
    "test_images = test_images / 255"
   ]
  },
  {
   "cell_type": "markdown",
   "id": "8b765858",
   "metadata": {},
   "source": [
    "<h3 style=\"font-weight: normal;\">Oversampling</h3>"
   ]
  },
  {
   "cell_type": "code",
   "execution_count": 6,
   "id": "f49baf24",
   "metadata": {},
   "outputs": [],
   "source": [
    "sm = SMOTE(random_state=42)\n",
    "train_images, train_image_labels = sm.fit_resample(train_images.reshape(-1, IMAGE_SIZE[0] * IMAGE_SIZE[1] * 3), \n",
    "                                                   train_image_labels)\n",
    "train_images = train_images.reshape(-1, IMAGE_SIZE[0], IMAGE_SIZE[1], 3)\n",
    "\n",
    "\n",
    "test_images, test_image_labels = sm.fit_resample(test_images.reshape(-1, IMAGE_SIZE[0] * IMAGE_SIZE[1] * 3), \n",
    "                                                 test_image_labels)\n",
    "test_images = test_images.reshape(-1, IMAGE_SIZE[0], IMAGE_SIZE[1], 3)"
   ]
  },
  {
   "cell_type": "markdown",
   "id": "b41529e7",
   "metadata": {},
   "source": [
    "<h3 style=\"font-weight: normal;\">Shuffling data</h3>"
   ]
  },
  {
   "cell_type": "code",
   "execution_count": 7,
   "id": "b5a776f9",
   "metadata": {},
   "outputs": [],
   "source": [
    "train_images, train_image_labels = shuffle(train_images, train_image_labels)"
   ]
  },
  {
   "cell_type": "markdown",
   "id": "b20e115a",
   "metadata": {},
   "source": [
    "<h3 style=\"font-weight: normal;\">Creating and training model</h3>"
   ]
  },
  {
   "cell_type": "code",
   "execution_count": 8,
   "id": "b4119a25",
   "metadata": {},
   "outputs": [
    {
     "name": "stdout",
     "output_type": "stream",
     "text": [
      "Model: \"sequential\"\n",
      "_________________________________________________________________\n",
      "Layer (type)                 Output Shape              Param #   \n",
      "=================================================================\n",
      "vgg19 (Model)                (None, 4, 4, 512)         20024384  \n",
      "_________________________________________________________________\n",
      "conv2d (Conv2D)              (None, 4, 4, 256)         1179904   \n",
      "_________________________________________________________________\n",
      "max_pooling2d (MaxPooling2D) (None, 2, 2, 256)         0         \n",
      "_________________________________________________________________\n",
      "conv2d_1 (Conv2D)            (None, 2, 2, 512)         1180160   \n",
      "_________________________________________________________________\n",
      "max_pooling2d_1 (MaxPooling2 (None, 1, 1, 512)         0         \n",
      "_________________________________________________________________\n",
      "flatten (Flatten)            (None, 512)               0         \n",
      "_________________________________________________________________\n",
      "dense (Dense)                (None, 512)               262656    \n",
      "_________________________________________________________________\n",
      "dropout (Dropout)            (None, 512)               0         \n",
      "_________________________________________________________________\n",
      "dense_1 (Dense)              (None, 4)                 2052      \n",
      "=================================================================\n",
      "Total params: 22,649,156\n",
      "Trainable params: 2,624,772\n",
      "Non-trainable params: 20,024,384\n",
      "_________________________________________________________________\n",
      "Epoch 1/15\n",
      "320/320 [==============================] - 102s 320ms/step - loss: 0.8830 - accuracy: 0.5822\n",
      "Epoch 2/15\n",
      "320/320 [==============================] - 104s 326ms/step - loss: 0.6380 - accuracy: 0.6984\n",
      "Epoch 3/15\n",
      "320/320 [==============================] - 104s 326ms/step - loss: 0.5384 - accuracy: 0.7586\n",
      "Epoch 4/15\n",
      "320/320 [==============================] - 104s 326ms/step - loss: 0.4560 - accuracy: 0.8008\n",
      "Epoch 5/15\n",
      "320/320 [==============================] - 104s 326ms/step - loss: 0.4022 - accuracy: 0.8269\n",
      "Epoch 6/15\n",
      "320/320 [==============================] - 104s 326ms/step - loss: 0.3461 - accuracy: 0.8478\n",
      "Epoch 7/15\n",
      "320/320 [==============================] - 104s 325ms/step - loss: 0.3188 - accuracy: 0.8660\n",
      "Epoch 8/15\n",
      "320/320 [==============================] - 104s 326ms/step - loss: 0.2873 - accuracy: 0.8828\n",
      "Epoch 9/15\n",
      "320/320 [==============================] - 777s 2s/step - loss: 0.2453 - accuracy: 0.8985\n",
      "Epoch 10/15\n",
      "320/320 [==============================] - 104s 324ms/step - loss: 0.2240 - accuracy: 0.9126\n",
      "Epoch 11/15\n",
      "320/320 [==============================] - 104s 326ms/step - loss: 0.2318 - accuracy: 0.9085\n",
      "Epoch 12/15\n",
      "320/320 [==============================] - 104s 325ms/step - loss: 0.2322 - accuracy: 0.9071\n",
      "Epoch 13/15\n",
      "320/320 [==============================] - 104s 325ms/step - loss: 0.1946 - accuracy: 0.9259\n",
      "Epoch 14/15\n",
      "320/320 [==============================] - 104s 325ms/step - loss: 0.1614 - accuracy: 0.9388\n",
      "Epoch 15/15\n",
      "320/320 [==============================] - 104s 326ms/step - loss: 0.1676 - accuracy: 0.9338\n"
     ]
    },
    {
     "data": {
      "image/png": "[encoded data removed]",
      "text/plain": [
       "<Figure size 432x288 with 1 Axes>"
      ]
     },
     "metadata": {
      "needs_background": "light"
     },
     "output_type": "display_data"
    },
    {
     "data": {
      "image/png": "[encoded data removed]",
      "text/plain": [
       "<Figure size 432x288 with 1 Axes>"
      ]
     },
     "metadata": {
      "needs_background": "light"
     },
     "output_type": "display_data"
    }
   ],
   "source": [
    "try:\n",
    "    model = load_model('models-vgg19/cnn-87-notebook.h5')\n",
    "except:\n",
    "    vgg19 = VGG19(\n",
    "        include_top=False,\n",
    "        weights='imagenet',\n",
    "        input_tensor=None,\n",
    "        input_shape=IMAGE_SIZE+(3,),\n",
    "        pooling=None,\n",
    "        classes=1000\n",
    "    )\n",
    "    vgg19.trainable = False\n",
    "\n",
    "    model = Sequential()\n",
    "    model.add(vgg19)\n",
    "    \n",
    "    model.add(Conv2D(filters=256, kernel_size=(3, 3), activation='relu', padding=\"same\"))\n",
    "    model.add(MaxPool2D(pool_size=(2, 2)))\n",
    "    \n",
    "    model.add(Conv2D(filters=512, kernel_size=(3, 3), activation='relu', padding=\"same\"))\n",
    "    model.add(MaxPool2D(pool_size=(2, 2)))\n",
    "    \n",
    "    model.add(Flatten())\n",
    "    model.add(Dense(units=512, activation='relu'))\n",
    "    model.add(Dropout(0.5))\n",
    "    model.add(Dense(units=class_number, activation='softmax'))\n",
    "    \n",
    "    model.summary()\n",
    "\n",
    "    model.compile(optimizer=\"adam\", loss='sparse_categorical_crossentropy', metrics=['accuracy'])\n",
    "\n",
    "    history = model.fit(train_images, train_image_labels, epochs=15, verbose=1)\n",
    "    model.save('models-vgg19/cnn-87-notebook.h5')\n",
    "\n",
    "    # Plotting accuracy and loss during training\n",
    "    # accuracy\n",
    "    plt.plot(history.history['accuracy'])\n",
    "    plt.title('model accuracy')\n",
    "    plt.ylabel('accuracy')\n",
    "    plt.xlabel('epoch')\n",
    "    plt.legend(['train', 'test'], loc='upper left')\n",
    "    plt.show()\n",
    "    \n",
    "    # loss\n",
    "    plt.plot(history.history['loss'])\n",
    "    plt.title('model loss')\n",
    "    plt.ylabel('loss')\n",
    "    plt.xlabel('epoch')\n",
    "    plt.legend(['train', 'test'], loc='upper left')\n",
    "    plt.show()"
   ]
  },
  {
   "cell_type": "markdown",
   "id": "866ce8c8",
   "metadata": {},
   "source": [
    "<h3 style=\"font-weight: normal;\">Evaluating and predicting</h3>"
   ]
  },
  {
   "cell_type": "code",
   "execution_count": 9,
   "id": "6437c2af",
   "metadata": {},
   "outputs": [
    {
     "name": "stdout",
     "output_type": "stream",
     "text": [
      "80/80 [==============================] - 25s 307ms/step - loss: 0.4212 - accuracy: 0.8746\n",
      "test loss, test acc: [0.42119473218917847, 0.8746093511581421]\n",
      "[[1.47818901e-06 5.78960666e-08 9.95439708e-01 4.55873460e-03]\n",
      " [8.89864147e-01 1.02442448e-06 2.22834852e-02 8.78513232e-02]\n",
      " [3.67977004e-09 4.06578937e-10 9.68649566e-01 3.13504115e-02]\n",
      " ...\n",
      " [3.88369022e-04 1.73886183e-05 2.63474733e-02 9.73246813e-01]\n",
      " [1.32534653e-04 1.22461404e-06 8.94231908e-03 9.90923941e-01]\n",
      " [2.40136258e-04 8.16775901e-06 1.03138804e-01 8.96612883e-01]]\n"
     ]
    }
   ],
   "source": [
    "# Evaluating\n",
    "results = model.evaluate(test_images, test_image_labels)\n",
    "print(\"test loss, test acc:\", results)\n",
    "\n",
    "# Predicting\n",
    "predictions = model.predict(test_images)\n",
    "print(predictions)\n",
    "\n",
    "predicted_labels = []\n",
    "for prediction in predictions:\n",
    "    predicted_value = max(prediction)\n",
    "    index = np.where(prediction == predicted_value)[0][0]\n",
    "    predicted_labels.append(index)"
   ]
  },
  {
   "cell_type": "markdown",
   "id": "9f18060d",
   "metadata": {},
   "source": [
    "<h2 style=\"font-weight: normal;\">Statistics</h2>"
   ]
  },
  {
   "cell_type": "code",
   "execution_count": 10,
   "id": "6a546877",
   "metadata": {},
   "outputs": [],
   "source": [
    "test_image_labels_str = []\n",
    "for label in test_image_labels:\n",
    "    test_image_labels_str.append(classes[int(label)])\n",
    "predicted_labels_str = []\n",
    "for label in predicted_labels:\n",
    "    predicted_labels_str.append(classes[label])"
   ]
  },
  {
   "cell_type": "markdown",
   "id": "ff48b6d5",
   "metadata": {},
   "source": [
    "<h4 style=\"font-weight: normal;\">Confusion matrix</h4>"
   ]
  },
  {
   "cell_type": "code",
   "execution_count": 11,
   "id": "cc1c3022",
   "metadata": {},
   "outputs": [
    {
     "name": "stdout",
     "output_type": "stream",
     "text": [
      "[[547   0  30  63]\n",
      " [ 20 606   1  13]\n",
      " [ 15   0 520 105]\n",
      " [ 24   0  50 566]]\n"
     ]
    },
    {
     "data": {
      "image/png": "[encoded data removed]",
      "text/plain": [
       "<Figure size 432x288 with 2 Axes>"
      ]
     },
     "metadata": {
      "needs_background": "light"
     },
     "output_type": "display_data"
    }
   ],
   "source": [
    "conf_mat = confusion_matrix(test_image_labels_str, predicted_labels_str, labels=classes)\n",
    "print(conf_mat)\n",
    "disp = ConfusionMatrixDisplay(confusion_matrix=conf_mat, display_labels=classes)\n",
    "disp.plot(cmap=\"Blues\", values_format='', xticks_rotation=90)\n",
    "plt.title('Alzheimer\\'s Disease Diagnosis')\n",
    "plt.xlabel('Prediction')\n",
    "plt.ylabel('Truth')\n",
    "plt.show()"
   ]
  },
  {
   "cell_type": "markdown",
   "id": "7bae63dd",
   "metadata": {},
   "source": [
    "<h4 style=\"font-weight: normal;\">Accuracy</h4>"
   ]
  },
  {
   "cell_type": "code",
   "execution_count": 12,
   "id": "bd038e8a",
   "metadata": {},
   "outputs": [
    {
     "name": "stdout",
     "output_type": "stream",
     "text": [
      "Accuracy: 87.4609375 %\n"
     ]
    }
   ],
   "source": [
    "percentage = accuracy_score(test_image_labels_str, predicted_labels_str)*100\n",
    "print('Accuracy:', percentage, '%')"
   ]
  },
  {
   "cell_type": "markdown",
   "id": "14325690",
   "metadata": {},
   "source": [
    "<h4 style=\"font-weight: normal;\">Classification report</h4>"
   ]
  },
  {
   "cell_type": "code",
   "execution_count": 13,
   "id": "7d35cac8",
   "metadata": {},
   "outputs": [
    {
     "name": "stdout",
     "output_type": "stream",
     "text": [
      "                  precision    recall  f1-score   support\n",
      "\n",
      "    MildDemented       0.90      0.85      0.88       640\n",
      "ModerateDemented       1.00      0.95      0.97       640\n",
      "     NonDemented       0.87      0.81      0.84       640\n",
      "VeryMildDemented       0.76      0.88      0.82       640\n",
      "\n",
      "        accuracy                           0.87      2560\n",
      "       macro avg       0.88      0.87      0.88      2560\n",
      "    weighted avg       0.88      0.87      0.88      2560\n",
      "\n"
     ]
    }
   ],
   "source": [
    "print(classification_report(y_true=list(map(str, test_image_labels_str)),\n",
    "                            y_pred=list(map(str, predicted_labels_str)),\n",
    "                            target_names=list(map(str, classes))))"
   ]
  }
 ],
 "metadata": {
  "kernelspec": {
   "display_name": "Python 3 (ipykernel)",
   "language": "python",
   "name": "python3"
  },
  "language_info": {
   "codemirror_mode": {
    "name": "ipython",
    "version": 3
   },
   "file_extension": ".py",
   "mimetype": "text/x-python",
   "name": "python",
   "nbconvert_exporter": "python",
   "pygments_lexer": "ipython3",
   "version": "3.8.13"
  }
 },
 "nbformat": 4,
 "nbformat_minor": 5
}
