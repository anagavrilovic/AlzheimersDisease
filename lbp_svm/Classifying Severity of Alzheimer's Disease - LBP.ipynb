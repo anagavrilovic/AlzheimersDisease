{
 "cells": [
  {
   "cell_type": "markdown",
   "id": "62fbdb1b",
   "metadata": {},
   "source": [
    "<h1 style=\"color: #5ca3d6; text-align: center;\">Classifying Severity of Alzheimer's Disease - LBP</h1>"
   ]
  },
  {
   "cell_type": "code",
   "execution_count": 1,
   "id": "69f29d38",
   "metadata": {},
   "outputs": [],
   "source": [
    "from skimage import feature\n",
    "import numpy as np\n",
    "import cv2\n",
    "import os\n",
    "\n",
    "from imblearn.over_sampling import SMOTE\n",
    "\n",
    "from sklearn.model_selection import train_test_split\n",
    "from sklearn.metrics import confusion_matrix, ConfusionMatrixDisplay, accuracy_score, classification_report\n",
    "import matplotlib.pyplot as plt\n",
    "\n",
    "from sklearn.utils import shuffle\n",
    "from sklearn.svm import LinearSVC\n",
    "from joblib import dump, load\n",
    "from localbinarypatterns import LocalBinaryPatterns\n",
    "import helper"
   ]
  },
  {
   "cell_type": "markdown",
   "id": "3da8c6df",
   "metadata": {},
   "source": [
    "<h3 style=\"font-weight: normal;\">Helper class for LPB</h3>"
   ]
  },
  {
   "cell_type": "code",
   "execution_count": 2,
   "id": "d0cc3261",
   "metadata": {},
   "outputs": [],
   "source": [
    "class LocalBinaryPatterns:\n",
    "    def __init__(self, num_points, radius):\n",
    "        # store the number of points and radius\n",
    "        self.num_points = num_points\n",
    "        self.radius = radius\n",
    "\n",
    "    def describe(self, image, eps=1e-7):\n",
    "        # compute the Local Binary Pattern representation\n",
    "        # of the image, and then use the LBP representation\n",
    "        # to build the histogram of patterns\n",
    "        lbp = feature.local_binary_pattern(image, self.num_points, self.radius, method=\"uniform\")\n",
    "        (hist, _) = np.histogram(lbp.ravel(), bins=np.arange(0, self.num_points + 3), range=(0, self.num_points + 2))\n",
    "\n",
    "        # normalize the histogram\n",
    "        hist = hist.astype(\"float\")\n",
    "        hist /= (hist.sum() + eps)\n",
    "\n",
    "        # return the histogram of Local Binary Patterns\n",
    "        return hist"
   ]
  },
  {
   "cell_type": "markdown",
   "id": "5b3bcea2",
   "metadata": {},
   "source": [
    "<h3 style=\"font-weight: normal;\">Constants</h3>"
   ]
  },
  {
   "cell_type": "code",
   "execution_count": 3,
   "id": "7ec5a4da",
   "metadata": {},
   "outputs": [],
   "source": [
    "DATASET_PATH = '..' + os.path.sep + 'dataset'\n",
    "IMAGE_SIZE = (128, 128)"
   ]
  },
  {
   "cell_type": "markdown",
   "id": "d23bc3a9",
   "metadata": {},
   "source": [
    "<h3 style=\"font-weight: normal;\">Reading image paths and labels and writing to dictionary</h3>"
   ]
  },
  {
   "cell_type": "markdown",
   "id": "9558de57",
   "metadata": {},
   "source": [
    "Iterrating through dataset's directories and files and creating dictionary with <span style=\"font-style: italic;\">\"path/to/file\" : \"label\"</span> pairs. <br/>\n",
    "Also, creating classes list, which is a list with names of all classes. Possible Alzheimer stages (classes) are: non demented, mild demented, very mild demented and moderate demented."
   ]
  },
  {
   "cell_type": "code",
   "execution_count": 4,
   "id": "db5c15f3",
   "metadata": {},
   "outputs": [
    {
     "data": {
      "text/plain": [
       "['MildDemented', 'ModerateDemented', 'NonDemented', 'VeryMildDemented']"
      ]
     },
     "execution_count": 4,
     "metadata": {},
     "output_type": "execute_result"
    }
   ],
   "source": [
    "images_dict = dict()\n",
    "classes = []\n",
    "for root, dirs, files in os.walk(DATASET_PATH):\n",
    "    path = root.split(os.sep)\n",
    "    for directory in dirs:\n",
    "        classes.append(directory)\n",
    "\n",
    "    for file in files:\n",
    "        if len(path) == 3:\n",
    "            if path[2] == 'MildDemented':\n",
    "                images_dict[os.path.join(DATASET_PATH, path[2], file)] = 0\n",
    "            elif path[2] == 'ModerateDemented':\n",
    "                images_dict[os.path.join(DATASET_PATH, path[2], file)] = 1\n",
    "            elif path[2] == 'NonDemented':\n",
    "                images_dict[os.path.join(DATASET_PATH, path[2], file)] = 2\n",
    "            elif path[2] == 'VeryMildDemented':\n",
    "                images_dict[os.path.join(DATASET_PATH, path[2], file)] = 3\n",
    "\n",
    "class_number = len(classes)\n",
    "classes"
   ]
  },
  {
   "cell_type": "markdown",
   "id": "a260a2b3",
   "metadata": {},
   "source": [
    "<h3 style=\"font-weight: normal;\">Loading images</h3>"
   ]
  },
  {
   "cell_type": "markdown",
   "id": "d747559e",
   "metadata": {},
   "source": [
    "Creating two lists: <span style=\"font-style: italic;\">train_images</span>, which is a list of loaded images, and <span style=\"font-style: italic;\">train_image_labels</span>, which is a list of labels for each image."
   ]
  },
  {
   "cell_type": "code",
   "execution_count": 5,
   "id": "343493c9",
   "metadata": {},
   "outputs": [],
   "source": [
    "train_images = []\n",
    "train_image_labels = []\n",
    "for image_path, image_label in images_dict.items():\n",
    "    img = cv2.cvtColor(cv2.imread(image_path), cv2.COLOR_BGR2RGB)\n",
    "    img = cv2.resize(img, IMAGE_SIZE)\n",
    "    train_images.append(img)\n",
    "    train_image_labels.append(image_label)\n",
    "\n",
    "train_images = np.array(train_images, dtype=float)\n",
    "train_image_labels = np.array(train_image_labels, dtype=float)"
   ]
  },
  {
   "cell_type": "markdown",
   "id": "c3c4f08d",
   "metadata": {},
   "source": [
    "<h3 style=\"font-weight: normal;\">Split to train and test</h3>"
   ]
  },
  {
   "cell_type": "code",
   "execution_count": 6,
   "id": "9d583fc0",
   "metadata": {},
   "outputs": [],
   "source": [
    "train_images, test_images, train_image_labels, test_image_labels = train_test_split(\n",
    "    train_images,\n",
    "    train_image_labels,\n",
    "    test_size=0.2,\n",
    "    random_state=15,\n",
    "    stratify=train_image_labels)\n",
    "\n",
    "train_images = train_images / 255\n",
    "test_images = test_images / 255"
   ]
  },
  {
   "cell_type": "markdown",
   "id": "57a9cc05",
   "metadata": {},
   "source": [
    "<h3 style=\"font-weight: normal;\">Oversampling</h3>"
   ]
  },
  {
   "cell_type": "code",
   "execution_count": 7,
   "id": "51ad8871",
   "metadata": {},
   "outputs": [],
   "source": [
    "sm = SMOTE(random_state=42)\n",
    "train_images, train_image_labels = sm.fit_resample(train_images.reshape(-1, IMAGE_SIZE[0] * IMAGE_SIZE[1] * 3), \n",
    "                                                   train_image_labels)\n",
    "train_images = train_images.reshape(-1, IMAGE_SIZE[0], IMAGE_SIZE[1], 3)\n",
    "\n",
    "\n",
    "test_images, test_image_labels = sm.fit_resample(test_images.reshape(-1, IMAGE_SIZE[0] * IMAGE_SIZE[1] * 3), \n",
    "                                                 test_image_labels)\n",
    "test_images = test_images.reshape(-1, IMAGE_SIZE[0], IMAGE_SIZE[1], 3)"
   ]
  },
  {
   "cell_type": "markdown",
   "id": "48c7b98d",
   "metadata": {},
   "source": [
    "<h3 style=\"font-weight: normal;\">Shuffling data</h3>"
   ]
  },
  {
   "cell_type": "code",
   "execution_count": 8,
   "id": "6841c68b",
   "metadata": {},
   "outputs": [],
   "source": [
    "train_images, train_image_labels = shuffle(train_images, train_image_labels)"
   ]
  },
  {
   "cell_type": "markdown",
   "id": "a0f3348e",
   "metadata": {},
   "source": [
    "<h3 style=\"font-weight: normal;\">Creating and training model</h3>"
   ]
  },
  {
   "cell_type": "code",
   "execution_count": 64,
   "id": "67133106",
   "metadata": {},
   "outputs": [
    {
     "name": "stdout",
     "output_type": "stream",
     "text": [
      "[LibLinear]"
     ]
    }
   ],
   "source": [
    "try:\n",
    "    clf_svm = load('models/svm.joblib')\n",
    "except:\n",
    "    train_image_features = []\n",
    "\n",
    "    desc = LocalBinaryPatterns(8, 1)\n",
    "\n",
    "    for img in train_images:\n",
    "        img = helper.reshape_data(img)\n",
    "        hist = desc.describe(img)\n",
    "        train_image_features.append(hist)\n",
    "\n",
    "    x = np.array(train_image_features)\n",
    "    y = np.array(train_image_labels)\n",
    "\n",
    "    # x = helper.reshape_data(x)\n",
    "\n",
    "    clf_svm = LinearSVC(C=50.0, random_state=42, verbose=1, max_iter=20000)\n",
    "    clf_svm.fit(x, y)\n",
    "\n",
    "    dump(clf_svm, 'models/svm.joblib')"
   ]
  },
  {
   "cell_type": "markdown",
   "id": "b942907c",
   "metadata": {},
   "source": [
    "<h3 style=\"font-weight: normal;\">Predicting</h3>"
   ]
  },
  {
   "cell_type": "code",
   "execution_count": 61,
   "id": "95237324",
   "metadata": {},
   "outputs": [
    {
     "name": "stdout",
     "output_type": "stream",
     "text": [
      "LBP done for test images\n",
      "[2. 2. 2. ... 1. 1. 0.]\n"
     ]
    }
   ],
   "source": [
    "test_image_features = []\n",
    "desc_test = LocalBinaryPatterns(8, 1)\n",
    "\n",
    "for img in test_images:\n",
    "    img = helper.reshape_data(img)\n",
    "    hist = desc_test.describe(img)\n",
    "    test_image_features.append(hist)\n",
    "print(\"LBP done for test images\")\n",
    "\n",
    "x = np.array(test_image_features)\n",
    "y = np.array(test_image_labels)\n",
    "\n",
    "predictions = clf_svm.predict(x)\n",
    "print(predictions)"
   ]
  },
  {
   "cell_type": "markdown",
   "id": "a5b54c7c",
   "metadata": {},
   "source": [
    "<h2 style=\"font-weight: normal;\">Statistics</h2>"
   ]
  },
  {
   "cell_type": "code",
   "execution_count": 57,
   "id": "cf38d3df",
   "metadata": {},
   "outputs": [],
   "source": [
    "test_image_labels_str = []\n",
    "for label in test_image_labels:\n",
    "    test_image_labels_str.append(classes[int(label)])\n",
    "    \n",
    "predicted_labels_str = []\n",
    "for label in predictions:\n",
    "    predicted_labels_str.append(classes[int(label)])"
   ]
  },
  {
   "cell_type": "markdown",
   "id": "3b4c7d81",
   "metadata": {},
   "source": [
    "<h4 style=\"font-weight: normal;\">Confusion matrix</h4>"
   ]
  },
  {
   "cell_type": "code",
   "execution_count": 58,
   "id": "5e71e760",
   "metadata": {},
   "outputs": [
    {
     "data": {
      "image/png": "[encoded data removed]",
      "text/plain": [
       "<Figure size 432x288 with 2 Axes>"
      ]
     },
     "metadata": {
      "needs_background": "light"
     },
     "output_type": "display_data"
    }
   ],
   "source": [
    "conf_mat = confusion_matrix(test_image_labels_str, predicted_labels_str, labels=classes)\n",
    "disp = ConfusionMatrixDisplay(confusion_matrix=conf_mat, display_labels=classes)\n",
    "disp.plot(cmap=\"Blues\", values_format='', xticks_rotation=90)\n",
    "plt.title('Alzheimer\\'s Disease Diagnosis')\n",
    "plt.xlabel('Prediction')\n",
    "plt.ylabel('Truth')\n",
    "plt.show()"
   ]
  },
  {
   "cell_type": "markdown",
   "id": "ac4a9f2f",
   "metadata": {},
   "source": [
    "<h4 style=\"font-weight: normal;\">Accuracy</h4>"
   ]
  },
  {
   "cell_type": "code",
   "execution_count": 59,
   "id": "03a91e22",
   "metadata": {},
   "outputs": [
    {
     "name": "stdout",
     "output_type": "stream",
     "text": [
      "Accuracy: 50.390625 %\n"
     ]
    }
   ],
   "source": [
    "percentage = accuracy_score(test_image_labels_str, predicted_labels_str)*100\n",
    "print('Accuracy:', percentage, '%')"
   ]
  },
  {
   "cell_type": "markdown",
   "id": "7c67d21f",
   "metadata": {},
   "source": [
    "<h4 style=\"font-weight: normal;\">Classification report</h4>"
   ]
  },
  {
   "cell_type": "code",
   "execution_count": 62,
   "id": "08ff6602",
   "metadata": {},
   "outputs": [
    {
     "name": "stdout",
     "output_type": "stream",
     "text": [
      "                  precision    recall  f1-score   support\n",
      "\n",
      "    MildDemented       0.51      0.20      0.29       640\n",
      "ModerateDemented       0.50      0.95      0.66       640\n",
      "     NonDemented       0.51      0.82      0.62       640\n",
      "VeryMildDemented       0.46      0.04      0.07       640\n",
      "\n",
      "        accuracy                           0.50      2560\n",
      "       macro avg       0.49      0.50      0.41      2560\n",
      "    weighted avg       0.49      0.50      0.41      2560\n",
      "\n"
     ]
    }
   ],
   "source": [
    "print(classification_report(y_true=list(map(str, test_image_labels_str)),\n",
    "                            y_pred=list(map(str, predicted_labels_str)),\n",
    "                            target_names=list(map(str, classes))))"
   ]
  }
 ],
 "metadata": {
  "kernelspec": {
   "display_name": "Python 3 (ipykernel)",
   "language": "python",
   "name": "python3"
  },
  "language_info": {
   "codemirror_mode": {
    "name": "ipython",
    "version": 3
   },
   "file_extension": ".py",
   "mimetype": "text/x-python",
   "name": "python",
   "nbconvert_exporter": "python",
   "pygments_lexer": "ipython3",
   "version": "3.8.13"
  }
 },
 "nbformat": 4,
 "nbformat_minor": 5
}
